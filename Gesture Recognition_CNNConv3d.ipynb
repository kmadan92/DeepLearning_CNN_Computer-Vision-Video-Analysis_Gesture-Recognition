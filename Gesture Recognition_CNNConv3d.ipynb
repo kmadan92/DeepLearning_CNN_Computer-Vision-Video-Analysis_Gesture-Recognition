{
 "cells": [
  {
   "cell_type": "markdown",
   "metadata": {},
   "source": [
    "# Gesture Recognition\n",
    "In this group project, you are going to build a 3D Conv model that will be able to predict the 5 gestures correctly. Please import the following libraries to get started."
   ]
  },
  {
   "cell_type": "code",
   "execution_count": 1,
   "metadata": {},
   "outputs": [],
   "source": [
    "import numpy as np\n",
    "import os\n",
    "#from scipy.misc import imread, imresize\n",
    "from skimage import io\n",
    "from skimage.transform import resize\n",
    "import datetime\n",
    "import os\n",
    "import matplotlib.pyplot as plt\n",
    "import warnings\n",
    "warnings.filterwarnings('ignore')\n",
    "import imageio\n"
   ]
  },
  {
   "cell_type": "markdown",
   "metadata": {},
   "source": [
    "We set the random seed so that the results don't vary drastically."
   ]
  },
  {
   "cell_type": "code",
   "execution_count": 2,
   "metadata": {},
   "outputs": [
    {
     "name": "stdout",
     "output_type": "stream",
     "text": [
      "1.10.0\n"
     ]
    }
   ],
   "source": [
    "import tensorflow as tf\n",
    "print(tf.__version__)"
   ]
  },
  {
   "cell_type": "code",
   "execution_count": 3,
   "metadata": {},
   "outputs": [
    {
     "name": "stdout",
     "output_type": "stream",
     "text": [
      "2.1.6-tf\n"
     ]
    }
   ],
   "source": [
    "from tensorflow.python import keras\n",
    "print(keras.__version__)"
   ]
  },
  {
   "cell_type": "code",
   "execution_count": 4,
   "metadata": {},
   "outputs": [
    {
     "name": "stderr",
     "output_type": "stream",
     "text": [
      "Using TensorFlow backend.\n"
     ]
    }
   ],
   "source": [
    "np.random.seed(30)\n",
    "import random as rn\n",
    "rn.seed(30)\n",
    "from keras import backend as K\n",
    "import tensorflow as tf\n",
    "tf.set_random_seed(30)\n",
    "#tf.random.set_seed(30)"
   ]
  },
  {
   "cell_type": "markdown",
   "metadata": {},
   "source": [
    "In this block, you read the folder names for training and validation. You also set the `batch_size` here. Note that you set the batch size in such a way that you are able to use the GPU in full capacity. You keep increasing the batch size until the machine throws an error."
   ]
  },
  {
   "cell_type": "code",
   "execution_count": 5,
   "metadata": {},
   "outputs": [],
   "source": [
    "train_doc = np.random.permutation(open('storage/train.csv').readlines())\n",
    "val_doc = np.random.permutation(open('storage/val.csv').readlines())\n",
    "batch_size = 32\n",
    "num_classes =5\n",
    "img_c=30 # image frames to be used \n",
    "img_height =128\n",
    "img_width =128"
   ]
  },
  {
   "cell_type": "code",
   "execution_count": 6,
   "metadata": {},
   "outputs": [],
   "source": [
    "train_doc = train_doc"
   ]
  },
  {
   "cell_type": "code",
   "execution_count": 7,
   "metadata": {},
   "outputs": [],
   "source": [
    "val_doc = val_doc"
   ]
  },
  {
   "cell_type": "code",
   "execution_count": 8,
   "metadata": {},
   "outputs": [
    {
     "data": {
      "text/plain": [
       "100"
      ]
     },
     "execution_count": 8,
     "metadata": {},
     "output_type": "execute_result"
    }
   ],
   "source": [
    "len(train_doc)"
   ]
  },
  {
   "cell_type": "markdown",
   "metadata": {},
   "source": [
    "## Generator\n",
    "This is one of the most important part of the code. The overall structure of the generator has been given. In the generator, you are going to preprocess the images as you have images of 2 different dimensions as well as create a batch of video frames. You have to experiment with `img_idx`, `y`,`z` and normalization such that you get high accuracy."
   ]
  },
  {
   "cell_type": "code",
   "execution_count": 9,
   "metadata": {},
   "outputs": [],
   "source": [
    "def generator(source_path, folder_list, batch_size):\n",
    "    print( 'Source path = ', source_path, '; batch size =', batch_size)\n",
    "    img_idx = img_c #Setting image frame value from above as global #create a list of image numbers you want to use for a particular video\n",
    "    x=img_idx\n",
    "    y=img_height\n",
    "    z=img_width\n",
    "    while True:\n",
    "        #print(\"inside whie\")\n",
    "        t = np.random.permutation(folder_list)\n",
    "        num_batches = int((len(t))/batch_size) # calculate the number of batches\n",
    "        #print(\"number of batches: \"+str(num_batches))\n",
    "        for batch in range(num_batches): # we iterate over the number of batches\n",
    "            #print(batch)\n",
    "            batch_data = np.zeros((batch_size+1,x,y,z,3)) # x is the number of images you use for each video, (y,z) is the final size of the input images and 3 is the number of channels RGB\n",
    "            batch_labels = np.zeros((batch_size+1,5)) # batch_labels is the one hot representation of the output\n",
    "            for folder in range(0,batch_size): # iterate over the batch_size\n",
    "                imgs = os.listdir(source_path+'/'+ t[folder + (batch*batch_size)].split(';')[0]) # read all the images in the folder\n",
    "                #print(folder + (batch*batch_size))\n",
    "                idc=0\n",
    "                idx=0\n",
    "                im=int(len(imgs))\n",
    "                \n",
    "                for item in range(im): #  Iterate iver the frames/images of a folder to read them in\n",
    "                    image = io.imread(source_path+'/'+ t[folder + (batch*batch_size)].strip().split(';')[0]+'/'+imgs[idc]).astype(np.float32)\n",
    "                    idc=idc+1\n",
    "                    #crop the images and resize them. Note that the images are of 2 different shape \n",
    "                    #and the conv3D will throw error if the inputs in a batch have different shapes\n",
    "                    \n",
    "                    image = resize(image, (y, z))\n",
    "                    \n",
    "                    \n",
    "                    norm_image = image/image.max()\n",
    "                   \n",
    "                    batch_data[folder,idx,:,:,0] = norm_image[:,:,0]#normalise and feed in the image\n",
    "                    batch_data[folder,idx,:,:,1] = norm_image[:,:,1]#normalise and feed in the image\n",
    "                    batch_data[folder,idx,:,:,2] = norm_image[:,:,2]#normalise and feed in the image\n",
    "                    idx=idx+1\n",
    "                batch_labels[folder, int(t[folder + (batch*batch_size)].strip().split(';')[2])] = 1\n",
    "            yield batch_data, batch_labels #you yield the batch_data and the batch_labels, remember what does yield do\n",
    "\n",
    "        \n",
    "        # write the code for the remaining data points which are left after full batches\n",
    "        if (len(t)%batch_size) is not 0:\n",
    "            #print(\"inside if\")\n",
    "            #print(len(t)%batch_size)\n",
    "            total_processed = batch_size*num_batches\n",
    "            left_out= int(len(t) - (batch_size*num_batches))\n",
    "            #print(total_processed)\n",
    "            #print(left_out)\n",
    "            for i in range(total_processed,total_processed+left_out):\n",
    "                #print(i)\n",
    "                imgs = os.listdir(source_path+'/'+ t[i].split(';')[0])\n",
    "                idc=0\n",
    "                idx=0\n",
    "                im=int(len(imgs))\n",
    "                for item in range(im):\n",
    "                    image = io.imread(source_path+'/'+ t[i].strip().split(';')[0]+'/'+imgs[idc]).astype(np.float32)\n",
    "                    idc=idc+1\n",
    "                    image = resize(image, (y, z))\n",
    "                \n",
    "                    #norm_image = image - np.percentile(image,5)/ np.percentile(image,95) - np.percentile(image,5)\n",
    "                    norm_image = image/image.max()\n",
    "                    #Under left out\n",
    "                    batch_data[batch_size,idx,:,:,0] = norm_image[:,:,0]#normalise and feed in the image\n",
    "                    batch_data[batch_size,idx,:,:,1] = norm_image[:,:,1]#normalise and feed in the image\n",
    "                    batch_data[batch_size,idx,:,:,2] = norm_image[:,:,2]#normalise and feed in the image\n",
    "                    idx=idx+1\n",
    "                batch_labels[batch_size, int(t[i].strip().split(';')[2])] = 1\n",
    "        \n",
    "            yield batch_data, batch_labels"
   ]
  },
  {
   "cell_type": "code",
   "execution_count": 10,
   "metadata": {},
   "outputs": [],
   "source": [
    "#gen = generator(\"storage/train\", train_doc, batch_size)"
   ]
  },
  {
   "cell_type": "code",
   "execution_count": 11,
   "metadata": {},
   "outputs": [],
   "source": [
    "#print(next(gen))"
   ]
  },
  {
   "cell_type": "markdown",
   "metadata": {},
   "source": [
    "Note here that a video is represented above in the generator as (number of images, height, width, number of channels). Take this into consideration while creating the model architecture."
   ]
  },
  {
   "cell_type": "code",
   "execution_count": 12,
   "metadata": {},
   "outputs": [
    {
     "name": "stdout",
     "output_type": "stream",
     "text": [
      "# training sequences = 100\n",
      "# validation sequences = 100\n",
      "# epochs = 2\n"
     ]
    }
   ],
   "source": [
    "curr_dt_time = datetime.datetime.now()\n",
    "train_path = 'storage/train'\n",
    "val_path = 'storage/val'\n",
    "num_train_sequences = len(train_doc)\n",
    "print('# training sequences =', num_train_sequences)\n",
    "num_val_sequences = len(val_doc)\n",
    "print('# validation sequences =', num_val_sequences)\n",
    "num_epochs = 2 # choose the number of epochs\n",
    "print ('# epochs =', num_epochs)"
   ]
  },
  {
   "cell_type": "markdown",
   "metadata": {},
   "source": [
    "## Model\n",
    "Here you make the model using different functionalities that Keras provides. Remember to use `Conv3D` and `MaxPooling3D` and not `Conv2D` and `Maxpooling2D` for a 3D convolution model. You would want to use `TimeDistributed` while building a Conv2D + RNN model. Also remember that the last layer is the softmax. Design the network in such a way that the model is able to give good accuracy on the least number of parameters so that it can fit in the memory of the webcam."
   ]
  },
  {
   "cell_type": "markdown",
   "metadata": {},
   "source": [
    "### Conv3D"
   ]
  },
  {
   "cell_type": "code",
   "execution_count": 13,
   "metadata": {},
   "outputs": [
    {
     "data": {
      "text/plain": [
       "(30, 128, 128, 3)"
      ]
     },
     "execution_count": 13,
     "metadata": {},
     "output_type": "execute_result"
    }
   ],
   "source": [
    "\n",
    "input_shape = np.zeros([img_c,img_height,img_width,3])\n",
    "input_shape.shape\n"
   ]
  },
  {
   "cell_type": "code",
   "execution_count": 14,
   "metadata": {},
   "outputs": [],
   "source": [
    "from keras.optimizers import Adam\n",
    "from keras.models import Sequential, Model\n",
    "from keras.layers import Dense, GRU, Flatten, TimeDistributed, Flatten, BatchNormalization, Activation, Dropout\n",
    "from keras.layers.convolutional import Conv3D, MaxPooling3D, MaxPooling2D\n",
    "from keras.callbacks import ReduceLROnPlateau, ModelCheckpoint, EarlyStopping\n",
    "from keras import optimizers\n",
    "from keras.applications import ResNet50\n",
    "\n",
    "\n",
    "#write your model here\n",
    "model = Sequential()\n",
    "\n",
    "#1-Layer\n",
    "model.add(Conv3D(16, (3,3,3),activation='relu',padding='same', input_shape=input_shape.shape))\n",
    "model.add(BatchNormalization())\n",
    "model.add(MaxPooling3D(pool_size=(2,2,2)))\n",
    "model.add(Dropout(0.25))\n",
    "\n",
    "#2-Layer\n",
    "model.add(Conv3D(32, (3,3,3),activation='relu',padding='same'))\n",
    "model.add(BatchNormalization())\n",
    "model.add(MaxPooling3D(pool_size=(2,2,2)))\n",
    "model.add(Dropout(0.25))\n",
    "\n",
    "#3-Layer\n",
    "model.add(Conv3D(64, (3,3,3),activation='relu',padding='same'))\n",
    "model.add(BatchNormalization())\n",
    "model.add(MaxPooling3D(pool_size=(2,2,2)))\n",
    "model.add(Dropout(0.25))\n",
    "\n",
    "#Dense Layer\n",
    "model.add(Flatten())\n",
    "model.add(Dense(128))\n",
    "model.add(BatchNormalization())\n",
    "model.add(Activation('relu'))\n",
    "model.add(Dropout(0.5))\n",
    "\n",
    "\n",
    "#Output Layer\n",
    "model.add(Dense(num_classes, activation='softmax'))\n"
   ]
  },
  {
   "cell_type": "markdown",
   "metadata": {},
   "source": [
    "Now that you have written the model, the next step is to `compile` the model. When you print the `summary` of the model, you'll see the total number of parameters you have to train."
   ]
  },
  {
   "cell_type": "code",
   "execution_count": 15,
   "metadata": {
    "scrolled": true
   },
   "outputs": [
    {
     "name": "stdout",
     "output_type": "stream",
     "text": [
      "_________________________________________________________________\n",
      "Layer (type)                 Output Shape              Param #   \n",
      "=================================================================\n",
      "conv3d_1 (Conv3D)            (None, 30, 128, 128, 16)  1312      \n",
      "_________________________________________________________________\n",
      "batch_normalization_1 (Batch (None, 30, 128, 128, 16)  64        \n",
      "_________________________________________________________________\n",
      "max_pooling3d_1 (MaxPooling3 (None, 15, 64, 64, 16)    0         \n",
      "_________________________________________________________________\n",
      "dropout_1 (Dropout)          (None, 15, 64, 64, 16)    0         \n",
      "_________________________________________________________________\n",
      "conv3d_2 (Conv3D)            (None, 15, 64, 64, 32)    13856     \n",
      "_________________________________________________________________\n",
      "batch_normalization_2 (Batch (None, 15, 64, 64, 32)    128       \n",
      "_________________________________________________________________\n",
      "max_pooling3d_2 (MaxPooling3 (None, 7, 32, 32, 32)     0         \n",
      "_________________________________________________________________\n",
      "dropout_2 (Dropout)          (None, 7, 32, 32, 32)     0         \n",
      "_________________________________________________________________\n",
      "conv3d_3 (Conv3D)            (None, 7, 32, 32, 64)     55360     \n",
      "_________________________________________________________________\n",
      "batch_normalization_3 (Batch (None, 7, 32, 32, 64)     256       \n",
      "_________________________________________________________________\n",
      "max_pooling3d_3 (MaxPooling3 (None, 3, 16, 16, 64)     0         \n",
      "_________________________________________________________________\n",
      "dropout_3 (Dropout)          (None, 3, 16, 16, 64)     0         \n",
      "_________________________________________________________________\n",
      "flatten_1 (Flatten)          (None, 49152)             0         \n",
      "_________________________________________________________________\n",
      "dense_1 (Dense)              (None, 128)               6291584   \n",
      "_________________________________________________________________\n",
      "batch_normalization_4 (Batch (None, 128)               512       \n",
      "_________________________________________________________________\n",
      "activation_1 (Activation)    (None, 128)               0         \n",
      "_________________________________________________________________\n",
      "dropout_4 (Dropout)          (None, 128)               0         \n",
      "_________________________________________________________________\n",
      "dense_2 (Dense)              (None, 5)                 645       \n",
      "=================================================================\n",
      "Total params: 6,363,717\n",
      "Trainable params: 6,363,237\n",
      "Non-trainable params: 480\n",
      "_________________________________________________________________\n",
      "None\n"
     ]
    }
   ],
   "source": [
    "\n",
    "optimiser = Adam(lr=0.1)\n",
    "model.compile(optimizer=optimiser, loss='categorical_crossentropy', metrics=['categorical_accuracy'])\n",
    "print (model.summary())\n"
   ]
  },
  {
   "cell_type": "markdown",
   "metadata": {},
   "source": [
    "Let us create the `train_generator` and the `val_generator` which will be used in `.fit_generator`."
   ]
  },
  {
   "cell_type": "code",
   "execution_count": 16,
   "metadata": {},
   "outputs": [],
   "source": [
    "train_generator = generator(train_path, train_doc, batch_size)\n",
    "val_generator = generator(val_path, val_doc, batch_size)"
   ]
  },
  {
   "cell_type": "code",
   "execution_count": 17,
   "metadata": {},
   "outputs": [],
   "source": [
    "\n",
    "model_name = 'model_init' + '_' + str(curr_dt_time).replace(' ','').replace(':','_') + '/'\n",
    "    \n",
    "if not os.path.exists(model_name):\n",
    "    os.mkdir(model_name)\n",
    "        \n",
    "filepath = model_name + 'model-{epoch:05d}-{loss:.5f}-{categorical_accuracy:.5f}-{val_loss:.5f}-{val_categorical_accuracy:.5f}.h5'\n",
    "\n",
    "\n",
    "#EarlyStopping = EarlyStopping(monitor='val_loss', patience=21, verbose=1)\n",
    "\n",
    "checkpoint = ModelCheckpoint(filepath, monitor='categorical_accuracy', verbose=2, save_best_only=True, save_weights_only=False, mode='max', period=1)\n",
    "\n",
    "LR = ReduceLROnPlateau(monitor='categorical_accuracy', factor=0.2,patience=10, cooldown =5,verbose=2, min_lr=0.001)# write the REducelronplateau code here\n",
    "\n",
    "callbacks_list = [LR,checkpoint]\n"
   ]
  },
  {
   "cell_type": "markdown",
   "metadata": {},
   "source": [
    "The `steps_per_epoch` and `validation_steps` are used by `fit_generator` to decide the number of next() calls it need to make."
   ]
  },
  {
   "cell_type": "code",
   "execution_count": 18,
   "metadata": {},
   "outputs": [
    {
     "name": "stdout",
     "output_type": "stream",
     "text": [
      "20\n",
      "20\n"
     ]
    }
   ],
   "source": [
    "if (num_train_sequences%batch_size) == 0:\n",
    "    steps_per_epoch = int(num_train_sequences/batch_size)\n",
    "else:\n",
    "    steps_per_epoch = (num_train_sequences//batch_size) + 1\n",
    "\n",
    "if (num_val_sequences%batch_size) == 0:\n",
    "    validation_steps = int(num_val_sequences/batch_size)\n",
    "else:\n",
    "    validation_steps = (num_val_sequences//batch_size) + 1\n",
    "    \n",
    "print(steps_per_epoch)\n",
    "print(validation_steps)"
   ]
  },
  {
   "cell_type": "markdown",
   "metadata": {},
   "source": [
    "Let us now fit the model. This will start training the model and with the help of the checkpoints, you'll be able to save the model at the end of each epoch."
   ]
  },
  {
   "cell_type": "code",
   "execution_count": 19,
   "metadata": {},
   "outputs": [
    {
     "name": "stdout",
     "output_type": "stream",
     "text": [
      "Source path =  storage/val ; batch size = 32\n",
      "Source path =  Epoch 1/2\n",
      "storage/train ; batch size = 32\n",
      "4/4 [==============================] - 35s 9s/step - loss: 2.1796 - categorical_accuracy: 0.2879 - val_loss: 10.4031 - val_categorical_accuracy: 0.2500\n",
      "\n",
      "Epoch 00001: categorical_accuracy improved from -inf to 0.28788, saving model to model_init_2020-06-2817_09_12.684648/model-00001-2.17963-0.28788-10.40314-0.25000.h5\n",
      "Epoch 2/2\n",
      "4/4 [==============================] - 27s 7s/step - loss: 1.5416 - categorical_accuracy: 0.4697 - val_loss: 11.9458 - val_categorical_accuracy: 0.2424\n",
      "\n",
      "Epoch 00002: categorical_accuracy improved from 0.28788 to 0.46970, saving model to model_init_2020-06-2817_09_12.684648/model-00002-1.54158-0.46970-11.94583-0.24242.h5\n"
     ]
    }
   ],
   "source": [
    "model_training = model.fit_generator(train_generator, steps_per_epoch=steps_per_epoch, epochs=num_epochs, verbose=1, \n",
    "                    callbacks=callbacks_list, validation_data=val_generator, \n",
    "                    validation_steps=validation_steps, class_weight=None, workers=1, initial_epoch=0)\n",
    "                    "
   ]
  },
  {
   "cell_type": "code",
   "execution_count": 20,
   "metadata": {},
   "outputs": [
    {
     "data": {
      "image/png": "[encoded data removed]",
      "text/plain": [
       "<Figure size 432x288 with 1 Axes>"
      ]
     },
     "metadata": {},
     "output_type": "display_data"
    }
   ],
   "source": [
    "# visualise training history\n",
    "plt.plot(model_training.history['categorical_accuracy'])\n",
    "plt.plot(model_training.history['val_categorical_accuracy'])\n",
    "plt.title('model accuracy')\n",
    "plt.ylabel('accuracy')\n",
    "plt.xlabel('epoch')\n",
    "plt.legend(['train', 'test'], loc=\"lower right\")\n",
    "plt.show()"
   ]
  },
  {
   "cell_type": "code",
   "execution_count": 21,
   "metadata": {},
   "outputs": [
    {
     "data": {
      "image/png": "[encoded data removed]",
      "text/plain": [
       "<Figure size 432x288 with 1 Axes>"
      ]
     },
     "metadata": {},
     "output_type": "display_data"
    }
   ],
   "source": [
    "# visualise training history\n",
    "plt.plot(model_training.history['loss'])\n",
    "plt.plot(model_training.history['val_loss'])\n",
    "plt.title('model loss')\n",
    "plt.ylabel('loss')\n",
    "plt.xlabel('epoch')\n",
    "plt.legend(['train', 'test'], loc=\"lower right\")\n",
    "plt.show()"
   ]
  },
  {
   "cell_type": "markdown",
   "metadata": {},
   "source": [
    "### CNN + RNN"
   ]
  },
  {
   "cell_type": "code",
   "execution_count": 19,
   "metadata": {},
   "outputs": [],
   "source": [
    "# Get base model: ResNet50 \n",
    "base_model = ResNet50(weights='imagenet',include_top=False)\n",
    "    \n",
    "# freeze the layers in base model\n",
    "#for layer in base_model.layers:\n",
    "#   layer.trainable = False\n",
    "\n",
    "split_at = 40\n",
    "for layer in base_model.layers[:split_at]: layer.trainable = False\n",
    "for layer in base_model.layers[split_at:]: layer.trainable = True\n",
    "        \n",
    "model = Sequential()\n",
    "\n",
    "\n",
    "model.add(TimeDistributed(base_model, input_shape= input_shape.shape))\n",
    "model.add(BatchNormalization())\n",
    "\n",
    "model.add(TimeDistributed(Flatten()))\n",
    "\n",
    "\n",
    "\n",
    "model.add(GRU(64,activation='relu', return_sequences=False))\n",
    "model.add(BatchNormalization())\n",
    "\n",
    "model.add(Dense(128, activation='relu'))\n",
    "model.add(Dropout(0.5))\n",
    "\n",
    "model.add(Dense(num_classes, activation='softmax'))\n",
    "  "
   ]
  },
  {
   "cell_type": "code",
   "execution_count": 20,
   "metadata": {},
   "outputs": [
    {
     "name": "stdout",
     "output_type": "stream",
     "text": [
      "_________________________________________________________________\n",
      "Layer (type)                 Output Shape              Param #   \n",
      "=================================================================\n",
      "time_distributed_1 (TimeDist (None, 30, 4, 4, 2048)    23587712  \n",
      "_________________________________________________________________\n",
      "batch_normalization_5 (Batch (None, 30, 4, 4, 2048)    8192      \n",
      "_________________________________________________________________\n",
      "time_distributed_2 (TimeDist (None, 30, 32768)         0         \n",
      "_________________________________________________________________\n",
      "gru_1 (GRU)                  (None, 64)                6303936   \n",
      "_________________________________________________________________\n",
      "batch_normalization_6 (Batch (None, 64)                256       \n",
      "_________________________________________________________________\n",
      "dense_3 (Dense)              (None, 128)               8320      \n",
      "_________________________________________________________________\n",
      "dropout_5 (Dropout)          (None, 128)               0         \n",
      "_________________________________________________________________\n",
      "dense_4 (Dense)              (None, 5)                 645       \n",
      "=================================================================\n",
      "Total params: 29,909,061\n",
      "Trainable params: 29,591,749\n",
      "Non-trainable params: 317,312\n",
      "_________________________________________________________________\n"
     ]
    }
   ],
   "source": [
    "# compile it\n",
    "optimiser = Adam(lr=0.1)\n",
    "model.compile(loss='categorical_crossentropy', optimizer=optimiser, metrics=['accuracy'])\n",
    "\n",
    "# summary of model\n",
    "model.summary()"
   ]
  },
  {
   "cell_type": "code",
   "execution_count": 22,
   "metadata": {},
   "outputs": [
    {
     "name": "stdout",
     "output_type": "stream",
     "text": [
      "Epoch 1/2\n",
      "20/20 [==============================] - 44s 2s/step - loss: 2.3968 - acc: 0.1500 - val_loss: 1.3525 - val_acc: 0.3167\n",
      "Epoch 2/2\n",
      "20/20 [==============================] - 39s 2s/step - loss: 1.3954 - acc: 0.1917 - val_loss: 1.3477 - val_acc: 0.1750\n"
     ]
    }
   ],
   "source": [
    "# Training the newly added layers \n",
    "\n",
    "# flow data (in batches) from directories (while simultaneously preprocessing/augmenting\n",
    "model_training = model.fit_generator(\n",
    "    train_generator,\n",
    "    steps_per_epoch=steps_per_epoch,\n",
    "    validation_data=val_generator,\n",
    "    validation_steps=validation_steps,\n",
    "    epochs=num_epochs,\n",
    "    verbose=1)"
   ]
  },
  {
   "cell_type": "code",
   "execution_count": null,
   "metadata": {},
   "outputs": [],
   "source": []
  }
 ],
 "metadata": {
  "kernelspec": {
   "display_name": "Python 3",
   "language": "python",
   "name": "python3"
  },
  "language_info": {
   "codemirror_mode": {
    "name": "ipython",
    "version": 3
   },
   "file_extension": ".py",
   "mimetype": "text/x-python",
   "name": "python",
   "nbconvert_exporter": "python",
   "pygments_lexer": "ipython3",
   "version": "3.7.4"
  }
 },
 "nbformat": 4,
 "nbformat_minor": 2
}
